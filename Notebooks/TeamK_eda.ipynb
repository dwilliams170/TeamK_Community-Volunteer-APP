{
 "cells": [
  {
   "cell_type": "code",
   "execution_count": 28,
   "id": "a850dae0",
   "metadata": {},
   "outputs": [],
   "source": [
    "# Importing required dependencies\n",
    "import sqlite3\n",
    "\n",
    "import pandas as pd \n",
    "import numpy as np\n",
    "\n",
    "import seaborn as sns\n",
    "import matplotlib.pyplot as plt"
   ]
  },
  {
   "cell_type": "code",
   "execution_count": 39,
   "id": "b41ef74b",
   "metadata": {},
   "outputs": [],
   "source": [
    "# Load CSVs into a Dataframe\n",
    "nonprofits_df = pd.read_csv('/Users/vanessawilliams/Desktop/Team K Project/nonprofits.csv')\n",
    "volunteers_df = pd.read_csv('/Users/vanessawilliams/Desktop/Team K Project/volunteers_.csv')\n",
    "court_case_df = pd.read_csv('/Users/vanessawilliams/Desktop/Team K Project/court_case.csv')\n",
    "opportunities_df = pd.read_csv('/Users/vanessawilliams/Desktop/Team K Project/opportunities.csv')\n"
   ]
  },
  {
   "cell_type": "code",
   "execution_count": 40,
   "id": "c7abdfde",
   "metadata": {},
   "outputs": [],
   "source": [
    "# Connect to SQLite\n",
    "conn = sqlite3.connect('community_volunteer.db')\n",
    "\n",
    "# Set up the cursor \n",
    "cursor = conn.cursor()"
   ]
  },
  {
   "cell_type": "code",
   "execution_count": 41,
   "id": "fde306be",
   "metadata": {},
   "outputs": [
    {
     "data": {
      "text/plain": [
       "73"
      ]
     },
     "execution_count": 41,
     "metadata": {},
     "output_type": "execute_result"
    }
   ],
   "source": [
    "# Converting CSV files to SQL database\n",
    "nonprofits_df.to_sql('nonprofits', conn, if_exists='replace', index=False)\n",
    "volunteers_df.to_sql('volunteers', conn, if_exists='replace', index=False)\n",
    "court_case_df.to_sql('court_case', conn, if_exists='replace', index=False)\n",
    "opportunities_df.to_sql('opportunities', conn, if_exists='replace', index=False)\n"
   ]
  },
  {
   "cell_type": "code",
   "execution_count": 42,
   "id": "4043a9ce",
   "metadata": {},
   "outputs": [
    {
     "name": "stdout",
     "output_type": "stream",
     "text": [
      "(1001, 'LumoNest Initiative', 'Community Engagement Fellow', 'Tuesday, Thursday', 'Morning, Evening', 'Both', 30303.0)\n",
      "(1001, 'LumoNest Initiative', 'Workshop Logistics Assistant', 'Tuesday, Thursday, Saturday', 'Morning', 'In Person', 75217.0)\n",
      "(2002, 'Virelia Foundation', 'Youth Program Mentor', 'Monday, Wednesday', 'Morning', 'In Person', 19143.0)\n",
      "(2002, 'Virelia Foundation', 'Grant Research Volunteer', 'Sunday', 'Morning, Afternoon, Evening', 'Remote', None)\n",
      "(2002, 'Virelia Foundation', 'Events Assistant', 'Friday, Saturday, Sunday', 'Morning, Afternoon, Evening', 'Remote', None)\n",
      "(3003, 'Thryssa Commons', 'Urban Garden Coordinator', 'Wednesday, Friday', 'Evening', 'In Person', 19143.0)\n",
      "(3003, 'Thryssa Commons', 'Compost Educator', 'Monday, Tuesday, Wednesday, Thursday', 'Afternoon', 'In Person', 85009.0)\n",
      "(4004, 'Zynko Project', 'Art Therapy Assistant', 'Tuesday, Thursday', 'Afternoon', 'In Person', 77021.0)\n",
      "(4004, 'Zynko Project', 'Mobile Outreach Volunteer', 'Tuesday, Thursday, Saturday', 'Afternoon', 'In Person', 75217.0)\n",
      "(5005, 'The Quendari Trust', 'After-School Tutor', 'Thursday', 'Afternoon', 'Remote', None)\n",
      "(5005, 'The Quendari Trust', 'Volunteer Recruitment Liaison', 'Saturday', 'Morning', 'Remote', None)\n",
      "(6006, 'BrambleLight Collective', 'Media Archive Volunteer', 'Tuesday, Thursday', 'Afternoon', 'Both', 30303.0)\n",
      "(6006, 'BrambleLight Collective', 'Local Story Collector', 'Thursday', 'Afternoon', 'Remote', None)\n",
      "(7007, 'Solvenya Works', 'Digital Literacy Coach', 'Friday, Saturday, Sunday', 'Morning', 'In Person', 30303.0)\n",
      "(7007, 'Solvenya Works', 'Curriculum Review Volunteer', 'Monday, Tuesday, Wednesday, Thursday', 'Morning, Afternoon, Evening', 'Remote', None)\n",
      "(8008, 'Nexava Rising', 'College Application Mentor', 'Tuesday, Thursday', 'Morning, Afternoon, Evening', 'Remote', None)\n",
      "(8008, 'Nexava Rising', 'Youth Ambassador', 'Saturday', 'Morning', 'Remote', None)\n",
      "(9009, 'OrbiKin Alliance', 'Donation Intake Organizer', 'Friday, Saturday, Sunday', 'Morning', 'Both', 75217.0)\n",
      "(9009, 'OrbiKin Alliance', 'Care Package Assembler', 'Friday, Saturday, Sunday', 'Morning', 'In Person', 94110.0)\n",
      "(1010, 'Caldra Spark Foundation', 'Early Literacy Tutor', 'Monday, Wednesday, Friday', 'Evening', 'Remote', None)\n",
      "(1010, 'Caldra Spark Foundation', 'Family Engagement Volunteer', 'Tuesday, Thursday, Saturday', 'Morning', 'Both', 75217.0)\n",
      "(1010, 'Caldra Spark Foundation', 'Reading Circle Facilitator', 'Tuesday, Thursday', 'Evening', 'In Person', None)\n",
      "(1111, 'The Mirophi Center', 'Youth Art Mentor', 'Monday, Wednesday, Friday', 'Evening', 'Both', 19143.0)\n",
      "(1111, 'The Mirophi Center', 'Exhibit Setup Volunteer', 'Wednesday, Friday', 'Evening', 'In Person', 20011.0)\n",
      "(1212, 'Veltrana Roots', 'Herbal Garden Steward', 'Sunday', 'Morning', 'In Person', 10027.0)\n",
      "(1212, 'Veltrana Roots', 'Workshop Note Taker', 'Saturday', 'Afternoon', 'Remote', None)\n",
      "(1313, 'Avenya Link', 'Technology Lending Librarian', 'Wednesday, Friday', 'Evening', 'In Person', 94110.0)\n",
      "(1313, 'Avenya Link', 'Call Center Support', 'Monday, Wednesday, Friday', 'Evening', 'In Person', 77021.0)\n",
      "(1414, 'Plintari Futures', 'Financial Literacy Facilitator', 'Friday, Saturday, Sunday', 'Morning', 'Remote', None)\n",
      "(1414, 'Plintari Futures', 'Youth Career Panelist', 'Thursday', 'Afternoon', 'Remote', None)\n",
      "(1515, 'Elenta Commons', 'Oral History Interviewer', 'Monday, Wednesday', 'Morning', 'Both', 10027.0)\n",
      "(1515, 'Elenta Commons', 'Podcast Editing Volunteer', 'Monday, Wednesday, Friday', 'Morning, Afternoon, Evening', 'Both', 10027.0)\n",
      "(1616, 'Zafari Kinship Network', 'Family Liaison', 'Monday, Tuesday, Wednesday, Thursday', 'Afternoon', 'Both', 20011.0)\n",
      "(1616, 'Zafari Kinship Network', 'Wellness Workshop Host', 'Monday, Tuesday, Wednesday, Thursday', 'Evening', 'Remote', None)\n",
      "(1717, 'Trevia Circle', 'Community Potluck Planner', 'Saturday', 'Evening', 'Both', 77021.0)\n",
      "(1717, 'Trevia Circle', 'Intergenerational Program Lead', 'Wednesday, Friday', 'Afternoon', 'Remote', None)\n",
      "(1818, 'Kindra Thread Co-op', 'Textile Arts Volunteer', 'Friday, Saturday, Sunday', 'Evening', 'In Person', 60640.0)\n",
      "(1818, 'Kindra Thread Co-op', 'Repair CafÃ© Assistant', 'Friday, Saturday, Sunday', 'Afternoon', 'In Person', 60640.0)\n",
      "(1919, 'Ombera Voices', 'Writing Mentor', 'Sunday', 'Morning, Afternoon, Evening', 'Both', 10027.0)\n",
      "(1919, 'Ombera Voices', 'Newsletter Designer', 'Sunday', 'Afternoon', 'In Person', 94110.0)\n",
      "(2020, 'Dralith Outreach Corps', 'Crisis Resource Assistant', 'Saturday', 'Afternoon', 'Remote', None)\n",
      "(2020, 'Dralith Outreach Corps', 'Meal Distribution Coordinator', 'Monday, Wednesday, Friday', 'Afternoon', 'Both', 77021.0)\n",
      "(2121, 'Saphros Way Initiative', 'Eco Club Mentor', 'Monday, Wednesday, Friday', 'Afternoon', 'Remote', None)\n",
      "(2121, 'Saphros Way Initiative', 'Community Mapping Volunteer', 'Monday, Wednesday', 'Morning', 'In Person', 94110.0)\n",
      "(2222, 'Cinterra Bloom', 'Urban Farming Assistant', 'Friday, Saturday, Sunday', 'Morning', 'Remote', None)\n",
      "(2222, 'Cinterra Bloom', 'Harvest Day Organizer', 'Tuesday, Thursday', 'Evening', 'Both', 77021.0)\n",
      "(2323, 'MyndiFold Collective', 'Legal Aid Intake Volunteer', 'Friday, Saturday, Sunday', 'Morning', 'Both', 85009.0)\n",
      "(2323, 'MyndiFold Collective', 'Tenant Rights Educator', 'Tuesday, Thursday', 'Afternoon', 'Remote', None)\n",
      "(2424, 'Volari KinWorks', 'Conflict Mediation Helper', 'Monday, Wednesday', 'Evening', 'Remote', None)\n",
      "(2424, 'Volari KinWorks', 'Block Party Volunteer', 'Tuesday, Thursday, Saturday', 'Evening', 'In Person', 30303.0)\n",
      "(2525, 'Harela Nexus', 'ESL Class Assistant', 'Tuesday, Thursday', 'Evening', 'Both', 48219.0)\n",
      "(2525, 'Harela Nexus', 'Citizenship Test Tutor', 'Monday, Tuesday, Wednesday, Thursday', 'Morning', 'In Person', 48219.0)\n",
      "(2626, 'RindleFrame Foundation', 'Art Supplies Curator', 'Wednesday, Friday', 'Evening', 'Both', 85009.0)\n",
      "(2626, 'RindleFrame Foundation', 'Youth Art Camp Volunteer', 'Friday, Saturday, Sunday', 'Afternoon', 'Both', 85009.0)\n",
      "(2727, 'EvraNest Network', 'Digital Resource Curator', 'Monday, Tuesday, Wednesday, Thursday', 'Evening', 'Both', 75217.0)\n",
      "(2727, 'EvraNest Network', 'Seniors Tech Coach', 'Monday, Wednesday', 'Evening', 'In Person', 75217.0)\n",
      "(2828, 'The Florenth Bridge', 'Language Exchange Partner', 'Monday, Wednesday, Friday', 'Morning', 'In Person', 48219.0)\n",
      "(2828, 'The Florenth Bridge', 'Cultural Night Volunteer', 'Wednesday, Friday', 'Afternoon', 'In Person', 94110.0)\n",
      "(2929, 'Zenthira Lab', 'STEM Workshop Assistant', 'Monday, Wednesday, Friday', 'Evening', 'In Person', 19143.0)\n",
      "(2929, 'Zenthira Lab', 'Data Entry Support', 'Thursday', 'Morning, Afternoon, Evening', 'Remote', None)\n",
      "(3030, 'Paxtrova Peaceworks', 'Peer Mediation Guide', 'Tuesday, Thursday', 'Morning', 'In Person', 77021.0)\n",
      "(3030, 'Paxtrova Peaceworks', 'Restorative Circle Note Taker', 'Tuesday, Thursday', 'Morning', 'Both', 30303.0)\n",
      "(3131, 'Juntri Wildkeepers', 'Trail Clean-up Crew', 'Saturday', 'Morning', 'In Person', 94110.0)\n",
      "(3131, 'Juntri Wildkeepers', 'Native Plant Tagger', 'Monday, Tuesday, Wednesday, Thursday', 'Afternoon', 'In Person', 94110.0)\n",
      "(3232, 'Quiverna Youth Hub', 'Homework Club Volunteer', 'Monday, Wednesday, Friday', 'Evening', 'In Person', 77021.0)\n",
      "(3232, 'Quiverna Youth Hub', 'College Essay Reviewer', 'Friday, Saturday, Sunday', 'Morning', 'Both', 60609.0)\n",
      "(3333, 'Nexari Reach', 'Wellness Check Caller', 'Thursday', 'Morning, Afternoon, Evening', 'Remote', None)\n",
      "(3333, 'Nexari Reach', 'Community Census Helper', 'Saturday', 'Evening', 'Both', 10027.0)\n",
      "(3434, 'Blintra Seed Collective', 'Seed Library Organizer', 'Thursday', 'Morning', 'Both', 30303.0)\n",
      "(3434, 'Blintra Seed Collective', 'Gardening Journal Designer', 'Monday, Wednesday, Friday', 'Morning, Afternoon, Evening', 'Both', 30303.0)\n",
      "(3535, 'The Talvyn Guild', 'Storytelling Night Host', 'Friday, Saturday, Sunday', 'Evening', 'Remote', None)\n",
      "(3535, 'The Talvyn Guild', 'Event Set-up Crew', 'Sunday', 'Evening', 'In Person', 85009.0)\n",
      "(3535, 'The Talvyn Guild', 'Costume Lending Librarian', 'Thursday', 'Evening', 'In Person', 85009.0)\n"
     ]
    }
   ],
   "source": [
    "# Example test query\n",
    "cursor.execute(\"\"\"\n",
    "    SELECT * FROM nonprofits\n",
    "\"\"\")\n",
    "\n",
    "row = cursor.fetchall()\n",
    "#print(row)\n",
    "\n",
    "for r in row: \n",
    "    print(r)\n"
   ]
  },
  {
   "cell_type": "code",
   "execution_count": null,
   "id": "a107216c",
   "metadata": {},
   "outputs": [
    {
     "name": "stdout",
     "output_type": "stream",
     "text": [
      "('Toni Yousafzai', 10027, 10027.0, 'Elenta Commons', 'Oral History Interviewer')\n",
      "('Kazuo Munro', 19143, 19143.0, 'The Mirophi Center', 'Youth Art Mentor')\n",
      "('Naguib Tagore', 30303, 30303.0, 'Blintra Seed Collective', 'Gardening Journal Designer')\n",
      "('Herta Mahfouz', 60640, 60640.0, 'Kindra Thread Co-op', 'Repair CafÃ© Assistant')\n",
      "('Toni Oe', 75217, 75217.0, 'Caldra Spark Foundation', 'Family Engagement Volunteer')\n",
      "('Herta Morrison', 77021, 77021.0, 'Avenya Link', 'Call Center Support')\n",
      "('Kenzaburo Munro', 85009, 85009.0, 'MyndiFold Collective', 'Legal Aid Intake Volunteer')\n",
      "('Orhan Lessing', 94110, 94110.0, 'Avenya Link', 'Technology Lending Librarian')\n"
     ]
    }
   ],
   "source": [
    "# Matching volunteer by zipcode to a volunteer opportunity in their area\n",
    "cursor.execute(\"\"\"\n",
    "    SELECT v.volunteer_name, v.volunteer_zipcode, n.nonprofit_zipcode,\n",
    "    n.nonprofit_name, n.nonprofit_opportunity\n",
    "    FROM volunteers AS v\n",
    "    JOIN nonprofits AS n\n",
    "    ON v.volunteer_zipcode = n.nonprofit_zipcode\n",
    "    GROUP BY v.volunteer_zipcode\n",
    "\"\"\")\n",
    "\n",
    "matches = cursor.fetchall()\n",
    "#print(row)\n",
    "\n",
    "for match in matches:\n",
    "    print(match)"
   ]
  }
 ],
 "metadata": {
  "kernelspec": {
   "display_name": "ds",
   "language": "python",
   "name": "python3"
  },
  "language_info": {
   "codemirror_mode": {
    "name": "ipython",
    "version": 3
   },
   "file_extension": ".py",
   "mimetype": "text/x-python",
   "name": "python",
   "nbconvert_exporter": "python",
   "pygments_lexer": "ipython3",
   "version": "3.12.9"
  }
 },
 "nbformat": 4,
 "nbformat_minor": 5
}
